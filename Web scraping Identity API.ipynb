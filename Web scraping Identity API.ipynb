{
 "cells": [
  {
   "cell_type": "code",
   "execution_count": 1,
   "metadata": {
    "collapsed": true,
    "tags": []
   },
   "outputs": [],
   "source": [
    "import json\n",
    "import requests\n",
    "import pandas as pd\n",
    "import urllib3\n",
    "urllib3.disable_warnings(urllib3.exceptions.InsecureRequestWarning)"
   ]
  },
  {
   "cell_type": "code",
   "execution_count": 2,
   "metadata": {
    "collapsed": true,
    "tags": []
   },
   "outputs": [],
   "source": [
    "# Calling to URL\n",
    "url = 'the_link of the url here'\n",
    "file_name = 'identities_data.xlsx'\n",
    "#df2 = pd.DataFrame()\n",
    "#counter = 0\n",
    "def get_identities():\n",
    "    try:\n",
    "        first_page = requests.get(url, verify=False, params={'size':200}, headers={'User-Agent': 'Mozilla/5.0'}).json()\n",
    "        yield first_page[\"_embedded\"][\"identities\"]\n",
    "        num_pages = first_page[\"page\"][\"totalPages\"]\n",
    "        print(num_pages)\n",
    "        for page in range(2,num_pages+1): # range(2,5):  # range(2,num_pages+1):\n",
    "            next_page = requests.get(url,verify=False, params={'page':page, \"size\":200},headers={'User-Agent': 'Mozilla/5.0'}).json()\n",
    "            yield next_page[\"_embedded\"][\"identities\"]\n",
    "        #print(next_page)\n",
    "    except:\n",
    "        return(\"Something went wrong when trying to reach the API\")"
   ]
  },
  {
   "cell_type": "code",
   "execution_count": 3,
   "metadata": {
    "tags": []
   },
   "outputs": [
    {
     "name": "stdout",
     "output_type": "stream",
     "text": [
      "1193\n",
      "100\n",
      "200\n",
      "300\n",
      "400\n",
      "500\n",
      "600\n",
      "700\n",
      "800\n",
      "900\n",
      "1000\n",
      "1100\n",
      "1028.245246887207\n"
     ]
    }
   ],
   "source": [
    "import time\n",
    "start = time.time()\n",
    "counter=0\n",
    "df = pd.DataFrame()\n",
    "for page in get_identities():\n",
    "    df_temp = pd.DataFrame(page)\n",
    "    #print(len(df_temp))\n",
    "    df = pd.concat([df_temp, df], ignore_index=True)\n",
    "    counter +=1\n",
    "    if counter%100==0:\n",
    "        print(counter)\n",
    "stop = time.time()\n",
    "print(stop-start)"
   ]
  },
  {
   "cell_type": "code",
   "execution_count": 7,
   "metadata": {
    "tags": []
   },
   "outputs": [
    {
     "data": {
      "text/plain": [
       "238261"
      ]
     },
     "execution_count": 7,
     "metadata": {},
     "output_type": "execute_result"
    }
   ],
   "source": [
    "len(df)"
   ]
  },
  {
   "cell_type": "markdown",
   "metadata": {},
   "source": [
    "### Choosing only specific Employees"
   ]
  },
  {
   "cell_type": "code",
   "execution_count": 8,
   "metadata": {
    "tags": []
   },
   "outputs": [
    {
     "data": {
      "text/plain": [
       "151455"
      ]
     },
     "execution_count": 8,
     "metadata": {},
     "output_type": "execute_result"
    }
   ],
   "source": [
    "new_df = df.query('employeeType==\"full_time\" & identityState==\"Active\" & identityType==\"Person\"')\n",
    "len(new_df)"
   ]
  },
  {
   "cell_type": "code",
   "execution_count": 9,
   "metadata": {
    "collapsed": true,
    "tags": []
   },
   "outputs": [],
   "source": [
    "new_df.to_csv(\"identity_data_August.csv\")"
   ]
  },
  {
   "cell_type": "code",
   "execution_count": 50,
   "metadata": {
    "collapsed": true,
    "tags": []
   },
   "outputs": [],
   "source": [
    "df = new_df.loc[:, new_df.columns != '_links']\n",
    "#result is hidden due to data security"
   ]
  }
 ],
 "metadata": {
  "kernelspec": {
   "display_name": "Python 3",
   "language": "python",
   "name": "python3"
  },
  "language_info": {
   "codemirror_mode": {
    "name": "ipython",
    "version": 3
   },
   "file_extension": ".py",
   "mimetype": "text/x-python",
   "name": "python",
   "nbconvert_exporter": "python",
   "pygments_lexer": "ipython3",
   "version": "3.6.1"
  }
 },
 "nbformat": 4,
 "nbformat_minor": 5
}
